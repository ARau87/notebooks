{
 "cells": [
  {
   "cell_type": "code",
   "execution_count": 1,
   "metadata": {},
   "outputs": [],
   "source": [
    "import pandas as pd"
   ]
  },
  {
   "cell_type": "code",
   "execution_count": null,
   "metadata": {},
   "outputs": [],
   "source": [
    "df1 = pd.DataFrame({\n",
    "    'Int_rate': [1,2,3,3],\n",
    "    'IND_GDP': [50, 45, 45, 70],\n",
    "}, index = [2001, 2002, 2003, 2004])\n",
    "\n",
    "df2 = pd.DataFrame({\n",
    "    'Low_Tier_HPI': [50,45,45,60],\n",
    "    'Unemployment': [1,3,7,3],\n",
    "}, index = [2005, 2006, 2007, 2008])"
   ]
  }
 ],
 "metadata": {
  "kernelspec": {
   "display_name": "Python 3",
   "language": "python",
   "name": "python3"
  },
  "language_info": {
   "codemirror_mode": {
    "name": "ipython",
    "version": 3
   },
   "file_extension": ".py",
   "mimetype": "text/x-python",
   "name": "python",
   "nbconvert_exporter": "python",
   "pygments_lexer": "ipython3",
   "version": "3.6.4"
  }
 },
 "nbformat": 4,
 "nbformat_minor": 2
}
