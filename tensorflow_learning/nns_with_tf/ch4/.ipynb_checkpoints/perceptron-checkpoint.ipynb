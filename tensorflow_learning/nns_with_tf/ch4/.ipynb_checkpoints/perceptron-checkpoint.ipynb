{
 "cells": [
  {
   "cell_type": "code",
   "execution_count": 1,
   "metadata": {},
   "outputs": [],
   "source": [
    "'''\n",
    "Perceptron for the logical \"AND\" function\n",
    "'''\n",
    "import matplotlib.pyplot as plt\n",
    "import numpy as np\n",
    "import random\n",
    "\n",
    "%matplotlib inline"
   ]
  },
  {
   "cell_type": "code",
   "execution_count": 2,
   "metadata": {},
   "outputs": [],
   "source": [
    "# Create the dataset\n",
    "def generate_data():\n",
    "    X = [[0,0], [1,1], [1,0], [0,1]]\n",
    "    y = [0, 1, 0, 0]\n",
    "    return X, y"
   ]
  },
  {
   "cell_type": "code",
   "execution_count": 5,
   "metadata": {},
   "outputs": [],
   "source": [
    "# Perceptron class\n",
    "class Perceptron():\n",
    "    \n",
    "    def __init__(self, X, y):\n",
    "        self.X = X\n",
    "        self.y = y\n",
    "        self.epochs = 20\n",
    "        self.w0 = 1\n",
    "        self.w1 = 0.5\n",
    "        self.w2 = 0.1\n",
    "        self.learning_rate = 0.5\n",
    "        \n",
    "    def activation(self, Xp):\n",
    "        y = - self.w0 + Xp[0] * self.w1 + Xp[1] * self.w2\n",
    "        if y > 0:\n",
    "            return 1\n",
    "        else:\n",
    "            return 0\n",
    "    \n",
    "    def update_weights(self, Xp, yp, y_hat):\n",
    "        delta_w1 = self.learning_rate * (yp - y_hat) * Xp[0]\n",
    "        delta_w2 = self.learning_rate * (yp - y_hat) * Xp[1]\n",
    "        \n",
    "        self.w1 = self.w1 + delta_w1\n",
    "        self.w2 = self.w2 + delta_w2\n",
    "        print('New weights:', self.w1, self.w2)\n",
    "        \n",
    "    def train(self):\n",
    "        error = 0.0\n",
    "        for epoch in range(self.epochs):\n",
    "            choice = random.randint(0, len(self.X) -1)\n",
    "            Xp = self.X[choice]\n",
    "            yp = self.y[choice]\n",
    "            y_hat = self.activation(Xp)\n",
    "            if y_hat != yp:\n",
    "                error += abs(yp - y_hat)\n",
    "                self.update_weights(Xp, yp, y_hat)\n",
    "            if epoch == self.epochs-1:\n",
    "                for indx in range(len(self.X)):\n",
    "                    if y[indx] == 1:\n",
    "                        plt.scatter(self.X[indx][0], self.X[indx][1], color='red')\n",
    "                    else:\n",
    "                        plt.scatter(self.X[indx][0], self.X[indx][1], color='blue')\n",
    "                plt.plot([self.w2, -self.w2], [-self.w1, self.w1], '--k')\n",
    "                plt.show()\n",
    "            print('Sum of Error:', error)\n",
    "    \n",
    "    def test(self):\n",
    "        false_results = 0\n",
    "        for indx in range(len(self.X)):\n",
    "            Xp = self.X[indx]\n",
    "            yp = self.y[indx]\n",
    "            y_hat = self.activation(Xp)\n",
    "            print('Predicted:', y_hat, ' Label:', yp)\n",
    "            print('on:', Xp[0], Xp[1])\n",
    "    \n",
    "            if yp != y_hat:\n",
    "                false_results += 1\n",
    "        print('Accuracy:', 100 * (len(self.X) - false_results) / len(self.X), '%')\n",
    "        \n",
    "        "
   ]
  },
  {
   "cell_type": "code",
   "execution_count": 6,
   "metadata": {},
   "outputs": [
    {
     "name": "stdout",
     "output_type": "stream",
     "text": [
      "New weights: 0.5 -0.4\n",
      "Sum of Error: 1.0\n",
      "New weights: 0.0 -0.4\n",
      "Sum of Error: 2.0\n",
      "Sum of Error: 2.0\n",
      "New weights: 0.5 0.09999999999999998\n",
      "Sum of Error: 3.0\n",
      "New weights: 0.0 0.09999999999999998\n",
      "Sum of Error: 4.0\n",
      "Sum of Error: 4.0\n",
      "Sum of Error: 4.0\n",
      "Sum of Error: 4.0\n",
      "Sum of Error: 4.0\n",
      "Sum of Error: 4.0\n",
      "Sum of Error: 4.0\n",
      "New weights: 0.0 -0.4\n",
      "Sum of Error: 5.0\n",
      "Sum of Error: 5.0\n",
      "New weights: 0.5 0.09999999999999998\n",
      "Sum of Error: 6.0\n",
      "New weights: 0.0 0.09999999999999998\n",
      "Sum of Error: 7.0\n",
      "Sum of Error: 7.0\n",
      "Sum of Error: 7.0\n",
      "New weights: 0.0 -0.4\n",
      "Sum of Error: 8.0\n",
      "Sum of Error: 8.0\n",
      "New weights: 0.5 0.09999999999999998\n"
     ]
    },
    {
     "data": {
      "image/png": "[encoded data removed]",
      "text/plain": [
       "<matplotlib.figure.Figure at 0x7efbd02c57b8>"
      ]
     },
     "metadata": {},
     "output_type": "display_data"
    },
    {
     "name": "stdout",
     "output_type": "stream",
     "text": [
      "Sum of Error: 9.0\n",
      "Predicted: 0  Label: 0\n",
      "on: 0 0\n",
      "Predicted: 1  Label: 1\n",
      "on: 1 1\n",
      "Predicted: 1  Label: 0\n",
      "on: 1 0\n",
      "Predicted: 1  Label: 0\n",
      "on: 0 1\n",
      "Accuracy: 50.0 %\n"
     ]
    }
   ],
   "source": [
    "# Generate the dataset and the perceptron\n",
    "X, y = generate_data()\n",
    "p = Perceptron(X,y)\n",
    "p.train()\n",
    "p.test()\n"
   ]
  }
 ],
 "metadata": {
  "kernelspec": {
   "display_name": "Python 3",
   "language": "python",
   "name": "python3"
  },
  "language_info": {
   "codemirror_mode": {
    "name": "ipython",
    "version": 3
   },
   "file_extension": ".py",
   "mimetype": "text/x-python",
   "name": "python",
   "nbconvert_exporter": "python",
   "pygments_lexer": "ipython3",
   "version": "3.6.4"
  }
 },
 "nbformat": 4,
 "nbformat_minor": 2
}
