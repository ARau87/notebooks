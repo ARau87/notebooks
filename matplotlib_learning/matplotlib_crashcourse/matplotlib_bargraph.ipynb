{
 "cells": [
  {
   "cell_type": "code",
   "execution_count": 1,
   "metadata": {},
   "outputs": [],
   "source": [
    "import matplotlib.pyplot as plt\n",
    "\n",
    "%matplotlib inline"
   ]
  },
  {
   "cell_type": "code",
   "execution_count": 2,
   "metadata": {},
   "outputs": [],
   "source": [
    "# Create two datasets\n",
    "x1 = [1, 3, 5, 7, 9]\n",
    "x2 = [2, 4, 6, 8, 10]\n",
    "\n",
    "y1 = [23, 19, 76, 29, 27]\n",
    "y2 = [38, 74, 19, 39, 20]\n"
   ]
  },
  {
   "cell_type": "code",
   "execution_count": 4,
   "metadata": {},
   "outputs": [
    {
     "data": {
      "image/png": "[encoded data removed]",
      "text/plain": [
       "<matplotlib.figure.Figure at 0x7efbd031b7f0>"
      ]
     },
     "metadata": {},
     "output_type": "display_data"
    }
   ],
   "source": [
    "# Create the bar graphs\n",
    "plt.bar(x1, y1, color='g', label='Bar 1')\n",
    "plt.bar(x2, y2, color='b', label='Bar 2')\n",
    "plt.legend()\n",
    "\n",
    "plt.xlabel('x_axis')\n",
    "plt.ylabel('y_axis')\n",
    "\n",
    "plt.title('Bar Graph')\n",
    "plt.show()"
   ]
  }
 ],
 "metadata": {
  "kernelspec": {
   "display_name": "Python 3",
   "language": "python",
   "name": "python3"
  },
  "language_info": {
   "codemirror_mode": {
    "name": "ipython",
    "version": 3
   },
   "file_extension": ".py",
   "mimetype": "text/x-python",
   "name": "python",
   "nbconvert_exporter": "python",
   "pygments_lexer": "ipython3",
   "version": "3.6.4"
  }
 },
 "nbformat": 4,
 "nbformat_minor": 2
}
