{
 "cells": [
  {
   "cell_type": "code",
   "execution_count": 1,
   "metadata": {},
   "outputs": [
    {
     "name": "stdout",
     "output_type": "stream",
     "text": [
      "/home/andreas/datasets\n"
     ]
    }
   ],
   "source": [
    "%cd '/home/andreas/datasets'"
   ]
  },
  {
   "cell_type": "code",
   "execution_count": 2,
   "metadata": {},
   "outputs": [
    {
     "name": "stderr",
     "output_type": "stream",
     "text": [
      "/home/andreas/anaconda3/lib/python3.6/site-packages/h5py/__init__.py:36: FutureWarning: Conversion of the second argument of issubdtype from `float` to `np.floating` is deprecated. In future, it will be treated as `np.float64 == np.dtype(float).type`.\n",
      "  from ._conv import register_converters as _register_converters\n"
     ]
    },
    {
     "name": "stdout",
     "output_type": "stream",
     "text": [
      "WARNING:tensorflow:From /home/andreas/anaconda3/lib/python3.6/site-packages/tensorflow/contrib/learn/python/learn/datasets/base.py:198: retry (from tensorflow.contrib.learn.python.learn.datasets.base) is deprecated and will be removed in a future version.\n",
      "Instructions for updating:\n",
      "Use the retry module or similar alternatives.\n"
     ]
    }
   ],
   "source": [
    "from tensorflow.examples.tutorials.mnist import input_data\n",
    "import tensorflow as tf\n",
    "import numpy as np\n",
    "import os"
   ]
  },
  {
   "cell_type": "code",
   "execution_count": 3,
   "metadata": {},
   "outputs": [
    {
     "name": "stdout",
     "output_type": "stream",
     "text": [
      "WARNING:tensorflow:From <ipython-input-3-c05a28df810a>:2: read_data_sets (from tensorflow.contrib.learn.python.learn.datasets.mnist) is deprecated and will be removed in a future version.\n",
      "Instructions for updating:\n",
      "Please use alternatives such as official/mnist/dataset.py from tensorflow/models.\n",
      "WARNING:tensorflow:From /home/andreas/anaconda3/lib/python3.6/site-packages/tensorflow/contrib/learn/python/learn/datasets/mnist.py:260: maybe_download (from tensorflow.contrib.learn.python.learn.datasets.base) is deprecated and will be removed in a future version.\n",
      "Instructions for updating:\n",
      "Please write your own downloading logic.\n",
      "WARNING:tensorflow:From /home/andreas/anaconda3/lib/python3.6/site-packages/tensorflow/contrib/learn/python/learn/datasets/base.py:219: retry.<locals>.wrap.<locals>.wrapped_fn (from tensorflow.contrib.learn.python.learn.datasets.base) is deprecated and will be removed in a future version.\n",
      "Instructions for updating:\n",
      "Please use urllib or similar directly.\n",
      "Successfully downloaded train-images-idx3-ubyte.gz 9912422 bytes.\n",
      "WARNING:tensorflow:From /home/andreas/anaconda3/lib/python3.6/site-packages/tensorflow/contrib/learn/python/learn/datasets/mnist.py:262: extract_images (from tensorflow.contrib.learn.python.learn.datasets.mnist) is deprecated and will be removed in a future version.\n",
      "Instructions for updating:\n",
      "Please use tf.data to implement this functionality.\n",
      "Extracting mnist/train-images-idx3-ubyte.gz\n",
      "Successfully downloaded train-labels-idx1-ubyte.gz 28881 bytes.\n",
      "WARNING:tensorflow:From /home/andreas/anaconda3/lib/python3.6/site-packages/tensorflow/contrib/learn/python/learn/datasets/mnist.py:267: extract_labels (from tensorflow.contrib.learn.python.learn.datasets.mnist) is deprecated and will be removed in a future version.\n",
      "Instructions for updating:\n",
      "Please use tf.data to implement this functionality.\n",
      "Extracting mnist/train-labels-idx1-ubyte.gz\n",
      "WARNING:tensorflow:From /home/andreas/anaconda3/lib/python3.6/site-packages/tensorflow/contrib/learn/python/learn/datasets/mnist.py:110: dense_to_one_hot (from tensorflow.contrib.learn.python.learn.datasets.mnist) is deprecated and will be removed in a future version.\n",
      "Instructions for updating:\n",
      "Please use tf.one_hot on tensors.\n",
      "Extracting mnist/t10k-images-idx3-ubyte.gz\n",
      "Extracting mnist/t10k-labels-idx1-ubyte.gz\n",
      "WARNING:tensorflow:From /home/andreas/anaconda3/lib/python3.6/site-packages/tensorflow/contrib/learn/python/learn/datasets/mnist.py:290: DataSet.__init__ (from tensorflow.contrib.learn.python.learn.datasets.mnist) is deprecated and will be removed in a future version.\n",
      "Instructions for updating:\n",
      "Please use alternatives such as official/mnist/dataset.py from tensorflow/models.\n"
     ]
    }
   ],
   "source": [
    "# Load dataset\n",
    "mnist = input_data.read_data_sets('mnist', one_hot=True)\n",
    "train_size = mnist.train.num_examples\n",
    "test_size = mnist.test.num_examples"
   ]
  },
  {
   "cell_type": "code",
   "execution_count": 23,
   "metadata": {},
   "outputs": [],
   "source": [
    "# Variables\n",
    "epochs = 10\n",
    "batch_size = 256\n",
    "classes = 10\n",
    "features = 784\n",
    "layer_nodes = [features, 100, 100, 100, classes]\n",
    "stddev = 0.100\n",
    "bias_weight_init = 0.100\n",
    "learning_rate = 1e-4\n"
   ]
  },
  {
   "cell_type": "code",
   "execution_count": 5,
   "metadata": {},
   "outputs": [],
   "source": [
    "# TF Placeholders\n",
    "# With 'None' in the shape we allow mini-batches!!!\n",
    "x = tf.placeholder(dtype=tf.float32, shape=[None, features], name='x')\n",
    "y = tf.placeholder(dtype=tf.float32, shape=[None, classes], name='y')"
   ]
  },
  {
   "cell_type": "code",
   "execution_count": 12,
   "metadata": {},
   "outputs": [],
   "source": [
    "# Weight Matrices\n",
    "W1 = tf.Variable(tf.truncated_normal([layer_nodes[0], layer_nodes[1]], stddev=stddev),\n",
    "                                     name='W1'\n",
    "                                    )\n",
    "W2 = tf.Variable(tf.truncated_normal([layer_nodes[1], layer_nodes[2]], stddev=stddev),\n",
    "                                     name='W2'\n",
    "                                    )\n",
    "W3 = tf.Variable(tf.truncated_normal([layer_nodes[2], layer_nodes[3]], stddev=stddev),\n",
    "                                     name='W3'\n",
    "                                    )\n",
    "W4 = tf.Variable(tf.truncated_normal([layer_nodes[3], layer_nodes[4]],stddev=stddev),\n",
    "                                     name='W4'\n",
    "                                    )"
   ]
  },
  {
   "cell_type": "code",
   "execution_count": 13,
   "metadata": {},
   "outputs": [],
   "source": [
    "# Biases Vectors\n",
    "b1 = tf.Variable(tf.truncated_normal([layer_nodes[1]], stddev=stddev), \n",
    "                 name='b1')\n",
    "b2 = tf.Variable(tf.truncated_normal([layer_nodes[2]], stddev=stddev), \n",
    "                 name='b2')\n",
    "b3 = tf.Variable(tf.truncated_normal([layer_nodes[3]], stddev=stddev), \n",
    "                 name='b3')\n",
    "b4 = tf.Variable(tf.truncated_normal([layer_nodes[4]], stddev=stddev), \n",
    "                 name='b4')"
   ]
  },
  {
   "cell_type": "code",
   "execution_count": 19,
   "metadata": {},
   "outputs": [],
   "source": [
    "# Define the Deep Neural Network\n",
    "def nn_model(x):\n",
    "   input_layer = {\n",
    "       'weights': W1, \n",
    "       'biases': b1\n",
    "   }\n",
    "   hidden_layer_1 = {\n",
    "       'weights': W2, \n",
    "       'biases': b2\n",
    "   }\n",
    "   hidden_layer_2 = {\n",
    "       'weights': W3, \n",
    "       'biases': b3\n",
    "   }\n",
    "   output_layer = {\n",
    "       'weights': W4, \n",
    "       'biases': b4\n",
    "   }\n",
    "    \n",
    "   input_layer_sum = tf.add(tf.matmul(x, input_layer['weights']), input_layer['biases'])\n",
    "   input_layer_sum = tf.nn.relu(input_layer_sum)\n",
    "   \n",
    "   hidden_layer_1_sum = tf.add(tf.matmul(input_layer_sum, hidden_layer_1['weights']), hidden_layer_1['biases'])\n",
    "   hidden_layer_1_sum = tf.nn.relu(input_layer_sum)\n",
    "\n",
    "   hidden_layer_2_sum = tf.add(tf.matmul(hidden_layer_1_sum, hidden_layer_2['weights']), hidden_layer_2['biases'])\n",
    "   hidden_layer_2_sum = tf.nn.relu(input_layer_sum)\n",
    "\n",
    "   output_layer_sum = tf.add(tf.matmul(hidden_layer_2_sum, output_layer['weights']), output_layer['biases'])\n",
    "\n",
    "   return output_layer_sum"
   ]
  },
  {
   "cell_type": "code",
   "execution_count": 21,
   "metadata": {},
   "outputs": [],
   "source": [
    "def nn_train(x):\n",
    "    \n",
    "    pred = nn_model(x)\n",
    "    pred = tf.identity(pred)\n",
    "    cost = tf.reduce_mean(tf.nn.softmax_cross_entropy_with_logits(logits=pred, labels=y))\n",
    "    optimizer = tf.train.AdamOptimizer(learning_rate=learning_rate).minimize(cost)\n",
    "    \n",
    "    with tf.Session() as sess:\n",
    "        sess.run(tf.global_variables_initializer())\n",
    "        \n",
    "        for epoch in range(epochs):\n",
    "            epoch_loss = 0.0\n",
    "            \n",
    "            for i in range(int(train_size / batch_size) + 1):\n",
    "                epoch_x, epoch_y = mnist.train.next_batch(batch_size)\n",
    "                _, c = sess.run([optimizer, cost], feed_dict={x: epoch_x, y: epoch_y})\n",
    "                epoch_loss += c\n",
    "            print('epoch: ', epoch + 1, 'of', epochs, 'with loss', epoch_loss)\n",
    "        \n",
    "                "
   ]
  },
  {
   "cell_type": "code",
   "execution_count": 24,
   "metadata": {},
   "outputs": [
    {
     "name": "stdout",
     "output_type": "stream",
     "text": [
      "epoch:  1 of 10 with loss 354.35836267471313\n",
      "epoch:  2 of 10 with loss 171.90840601921082\n",
      "epoch:  3 of 10 with loss 117.06658020615578\n",
      "epoch:  4 of 10 with loss 95.3450855910778\n",
      "epoch:  5 of 10 with loss 83.90339080989361\n",
      "epoch:  6 of 10 with loss 76.18821248412132\n",
      "epoch:  7 of 10 with loss 70.72895860671997\n",
      "epoch:  8 of 10 with loss 66.47211582958698\n",
      "epoch:  9 of 10 with loss 63.0739079862833\n",
      "epoch:  10 of 10 with loss 59.784769371151924\n"
     ]
    }
   ],
   "source": [
    "nn_train(x)"
   ]
  }
 ],
 "metadata": {
  "kernelspec": {
   "display_name": "Python 3",
   "language": "python",
   "name": "python3"
  },
  "language_info": {
   "codemirror_mode": {
    "name": "ipython",
    "version": 3
   },
   "file_extension": ".py",
   "mimetype": "text/x-python",
   "name": "python",
   "nbconvert_exporter": "python",
   "pygments_lexer": "ipython3",
   "version": "3.6.4"
  }
 },
 "nbformat": 4,
 "nbformat_minor": 2
}
